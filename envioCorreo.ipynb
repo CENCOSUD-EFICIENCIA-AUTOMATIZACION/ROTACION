{
 "cells": [
  {
   "cell_type": "code",
   "execution_count": null,
   "metadata": {},
   "outputs": [],
   "source": [
    "import pandas as pd\n",
    "from os import remove\n",
    "\n",
    "from classes import dbAzure\n",
    "DBAzure = dbAzure.DBAzure\n",
    "\n",
    "from helpers import correoEnvioArchivo, validarProduccion, rutas, correosDestino\n",
    "estadoProduccion    = validarProduccion.validarProduccion()\n",
    "rutaRelativa        = rutas.rutas()\n",
    "\n",
    "from helpers import rutas, correoEnvioArchivo, correosDestino, validarProduccion\n",
    "correoEnvioArchivo  = correoEnvioArchivo.correoEnvioArchivo"
   ]
  },
  {
   "cell_type": "code",
   "execution_count": null,
   "metadata": {},
   "outputs": [],
   "source": [
    "rutaRelativa = rutaRelativa.replace('\\\\SRC', '')\n",
    "rutaRelativa"
   ]
  },
  {
   "cell_type": "code",
   "execution_count": null,
   "metadata": {},
   "outputs": [],
   "source": [
    "dbAzure = DBAzure(estadoProduccion)"
   ]
  },
  {
   "cell_type": "code",
   "execution_count": null,
   "metadata": {},
   "outputs": [],
   "source": [
    "equipos = dbAzure.getQuerySolpeds()\n",
    "#solpeds\n",
    "display(equipos)"
   ]
  },
  {
   "cell_type": "code",
   "execution_count": null,
   "metadata": {},
   "outputs": [],
   "source": [
    "equipos_envio = equipos.drop(['temperaturaMinima','temperaturaMaxima','Creado', 'DESCRIPCION', 'Modificado','created_at', 'updated_at', 'id' ], axis=1)\n",
    "display(equipos)"
   ]
  },
  {
   "cell_type": "code",
   "execution_count": null,
   "metadata": {},
   "outputs": [],
   "source": [
    "rutaRelativa.replace('/PROYECTOS', '/PROYECTOS/ROTACION/DOCS')"
   ]
  },
  {
   "cell_type": "code",
   "execution_count": null,
   "metadata": {},
   "outputs": [],
   "source": [
    "equipos_envio.to_excel(\"EQUIPOS_NO_OPERATIVOS.xlsx\")\n",
    "#remove(\"EQUIPOS_NO_OPERATIVOS.xlsx\")\n"
   ]
  },
  {
   "cell_type": "code",
   "execution_count": null,
   "metadata": {},
   "outputs": [],
   "source": [
    "rutaRelativa = rutaRelativa.replace('/PROYECTOS', '/PROYECTOS/ROTACION')\n",
    "rutaRelativa\n"
   ]
  },
  {
   "cell_type": "code",
   "execution_count": null,
   "metadata": {},
   "outputs": [],
   "source": [
    "correos         = correosDestino.correosDestino(estadoProduccion)\n",
    "correos['to'].append('camilomansillaulloa@gmail.com')\n",
    "correos"
   ]
  },
  {
   "cell_type": "code",
   "execution_count": null,
   "metadata": {},
   "outputs": [],
   "source": [
    "archivos    = []\n",
    "archivos.append({\n",
    "    'nombre_archivo':   'EQUIPOS_NO_OPERATIVOS.xlsx',\n",
    "    'tipo_archivo':     'application',\n",
    "    'formato_archivo': 'vnd.ms-excel',\n",
    "    'ruta':             f'{rutaRelativa}/EQUIPOS_NO_OPERATIVOS.xlsx'\n",
    "})\n",
    "correoEnvioArchivo('EQUIPOS NO OPERATIVOS DS', \"\", correos, archivos)"
   ]
  },
  {
   "cell_type": "code",
   "execution_count": null,
   "metadata": {},
   "outputs": [],
   "source": [
    "equipos['ESTADO_CORREO'] = 'NO ENVIAR'\n",
    "display(equipos)"
   ]
  },
  {
   "cell_type": "code",
   "execution_count": null,
   "metadata": {},
   "outputs": [],
   "source": [
    "for index in equipos.index:\n",
    "    dbAzure.changeStatusSolped(equipos.iloc[index])"
   ]
  },
  {
   "cell_type": "code",
   "execution_count": null,
   "metadata": {},
   "outputs": [],
   "source": [
    "#fileHtml    = open(f'{rutaRelativa}/templates/CorreoGerenteDS.html', 'r', encoding='utf-8')\n",
    "#htmlBase    = fileHtml.read()\n",
    "#fileHtml.close()\n",
    "#htmlBase"
   ]
  },
  {
   "cell_type": "code",
   "execution_count": null,
   "metadata": {},
   "outputs": [],
   "source": [
    "#fileHtml    = open(f'{rutaRelativa}/templates/correoAprobacionGerenteBanderas.html', 'r', encoding='utf-8')\n",
    "#htmlBase    = fileHtml.read()\n",
    "#fileHtml.close()"
   ]
  },
  {
   "cell_type": "code",
   "execution_count": null,
   "metadata": {},
   "outputs": [],
   "source": [
    "for bandera in banderas:\n",
    "    correos         = correosDestino.correosDestino(estadoProduccion)\n",
    "    dataBandera     = solpeds[solpeds['bandera_estandarizada'] == bandera]\n",
    "    if dataBandera.shape[0] == 0:\n",
    "        continue\n",
    "    html            = htmlBase\n",
    "    tabla           = dataBandera[[\n",
    "    'solped',\n",
    "    'bandera',\n",
    "    'centro',\n",
    "    'nombre_local',\n",
    "    'familia',\n",
    "    'descripcion',\n",
    "    'monto',\n",
    "    'fecha_creacion_solped',\n",
    "    ]].to_html(index=False)\n",
    "    tabla = tabla.replace('\\\\n','<br>')\n",
    "    tabla = tabla.replace('\\n','')\n",
    "    tabla = tabla.replace(' border=\"1\" class=\"dataframe\"','')\n",
    "    tabla = tabla.replace(' style=\"text-align: right;\"','')\n",
    "    \n",
    "    html = html.replace('{{TABLA}}', tabla)\n",
    "    html = html.replace('{{ROWS}}', str(dataBandera.shape[0]))\n",
    "    html = html.replace('{{NAME}}', banderas[bandera]['name'])\n",
    "    html\n",
    "    if estadoProduccion:\n",
    "        correos['to'].append(banderas[bandera]['email'])\n",
    "    correoEnvioArchivo(\n",
    "    #    'Solped para ok',\n",
    "    #    html,\n",
    "    #    correos,\n",
    "    #    [],\n",
    "    #)\n",
    "    \n",
    "    dataBandera['estado'] = 'PENDIENTE APROBACION GERENTE DE BANDERA'\n",
    "    dataBandera = dataBandera.reset_index(drop=True)\n",
    "    display(dataBandera)\n",
    "    \n",
    "    for index in dataBandera.index:\n",
    "        #print(index)\n",
    "        dbAzure.changeStatusSolped(dataBandera.iloc[index])\n",
    "        dbAzure.createHistory(dataBandera.iloc[index])"
   ]
  },
  {
   "cell_type": "code",
   "execution_count": null,
   "metadata": {},
   "outputs": [],
   "source": [
    "solpeds = dbAzure.getQuerySolpeds()\n",
    "solpeds"
   ]
  },
  {
   "cell_type": "code",
   "execution_count": null,
   "metadata": {},
   "outputs": [],
   "source": []
  }
 ],
 "metadata": {
  "kernelspec": {
   "display_name": "Python 3",
   "language": "python",
   "name": "python3"
  },
  "language_info": {
   "codemirror_mode": {
    "name": "ipython",
    "version": 3
   },
   "file_extension": ".py",
   "mimetype": "text/x-python",
   "name": "python",
   "nbconvert_exporter": "python",
   "pygments_lexer": "ipython3",
   "version": "3.11.1 (v3.11.1:a7a450f84a, Dec  6 2022, 15:24:06) [Clang 13.0.0 (clang-1300.0.29.30)]"
  },
  "orig_nbformat": 4,
  "vscode": {
   "interpreter": {
    "hash": "aee8b7b246df8f9039afb4144a1f6fd8d2ca17a180786b69acc140d282b71a49"
   }
  }
 },
 "nbformat": 4,
 "nbformat_minor": 2
}
