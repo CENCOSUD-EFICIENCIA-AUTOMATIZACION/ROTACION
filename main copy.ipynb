{
 "cells": [
  {
   "cell_type": "code",
   "execution_count": null,
   "metadata": {},
   "outputs": [],
   "source": [
    "import urllib\n",
    "import sqlalchemy\n",
    "import numpy as np\n",
    "import pandas as pd\n",
    "from datetime import datetime\n",
    "\n",
    "import os\n",
    "import pandas as pd\n",
    "import numpy as np\n",
    "\n",
    "\n",
    "from helpers import rutas, validarProduccion\n",
    "rutaRelativa        = rutas.rutas()\n",
    "print(rutaRelativa)\n",
    "estadoProduccion    = validarProduccion.validarProduccion()\n",
    "\n",
    "\n",
    "from classes import dbAzure, email\n",
    "dbAzure = dbAzure.DBAzure(estadoProduccion)\n",
    "Email   = email.Email\n",
    "\n",
    "print(estadoProduccion)"
   ]
  },
  {
   "cell_type": "code",
   "execution_count": null,
   "metadata": {},
   "outputs": [],
   "source": [
    "# CREAR HISTORICO FRIO DS\n",
    "def queryCreateTableHistorico_equipos_DS(conection_DB, nombre_tabla, dataframe):\n",
    "    \n",
    "    # ELIMINA BASE DE DATOS\n",
    "    conection_DB.connection.execute(f'DROP TABLE GestionProcesosTienda.dbo.{nombre_tabla};')\n",
    "    conection_DB.connection.commit()\n",
    "    \n",
    "    # CREA ARREGLO CON LAS COLUMNAS Y SUS TIPOS\n",
    "    columns = []\n",
    "    for index in dataframe.dtypes.index:\n",
    "        tipo = str(dataframe.dtypes.loc[index])\n",
    "        if tipo == \"object\":\n",
    "            tipo = 'varchar'\n",
    "        elif tipo == \"int64\":\n",
    "            tipo = 'int'\n",
    "        elif tipo == \"float64\":\n",
    "            tipo = 'float'\n",
    "        columns.append({'name': index, 'type': tipo})\n",
    "    \n",
    "    print(columns)\n",
    "    \n",
    "    # DA FORMATO A QUERY PARA CREAR TABLA \n",
    "    query = f\"CREATE TABLE GestionProcesosTienda.dbo.{nombre_tabla} (\\nid bigint IDENTITY(1,1) NOT NULL,\"\n",
    "    for column in columns:\n",
    "        if column['type'] == 'varchar':\n",
    "            query += f'\\n{column[\"name\"]} varchar(100) COLLATE SQL_Latin1_General_CP1_CI_AS NOT NULL,'\n",
    "        elif column['type'] == 'int':\n",
    "            query += f'\\n{column[\"name\"]} bigint NOT NULL,'\n",
    "    query += f\"\\ncreated_at datetime NOT NULL, \\nupdated_at datetime NOT NULL, \\nCONSTRAINT PK_{nombre_tabla}_3213E83F1717089E PRIMARY KEY (id)\\n);\"\n",
    "\n",
    "    # SI LA TABLA NO EXISTE EN LA BASE DE DATOS LA CREA\n",
    "    tablas = pd.read_sql_query(\"select * from information_schema.tables\", conection_DB.connection)\n",
    "    if 'historico_equipos_frio_DS' not in tablas.TABLE_NAME.unique():\n",
    "        # CREA TABLA\n",
    "        conection_DB.connection.execute(query)\n",
    "        conection_DB.connection.commit()\n",
    "\n",
    "        # AGREGA LAS COLUMNAS DE FECHA DE CREACION Y ACTUALIZACION\n",
    "        dataframe['created_at']   = datetime.today()\n",
    "        dataframe['updated_at']   = datetime.today()\n",
    "\n",
    "        # INSERTA DATOS EN BASE DE DATOS\n",
    "        db_params               = urllib.parse.quote_plus(conection_DB.dataConnection)\n",
    "        engine                  = sqlalchemy.create_engine(\"mssql+pyodbc:///?odbc_connect={}\".format(db_params))\n",
    "        dataframe.to_sql('historico_equipos_frio_DS', con=engine, index=False, if_exists=\"append\", schema=\"dbo\")"
   ]
  },
  {
   "cell_type": "code",
   "execution_count": null,
   "metadata": {},
   "outputs": [],
   "source": [
    "display(f'{rutaRelativa}/ROTACION/temperatura_diarias.cvs')"
   ]
  },
  {
   "cell_type": "code",
   "execution_count": null,
   "metadata": {},
   "outputs": [],
   "source": [
    "dataframe = pd.read_csv(f'{rutaRelativa}/ROTACION/temperatura_diarias.csv')\n",
    "dataframe = dataframe\n",
    "#dataframe = dataframe.drop(['EAN','SECCION','ALMACENAMIENTO','Fecha Merma','SECCION','N° Doc. Merma','ZONA','Creado por','Modificado','Creado','NO_CONFORMIDAD','CANTIDAD','ESTADO_RETIRO','FECHA_RETIRO','DESTINO','MES','ID_SECCION','LIMPIEZA','FECHA_SOLICITUD','PROVEEDOR','UBICACION','FECHA_VENCIMIENTO' ], axis=1)\n",
    "dataframe = dataframe.replace({np.nan: 'None'})\n",
    "#dataframe['ID_SECCION'] = dataframe[\"ID_SECCION\"].apply(lambda x: pd.Series(str(x).split(\".\")[0]))\n",
    "#dataframe['ID_SECCION'] = dataframe[\"ID_SECCION\"].apply(lambda x: '0' + x if(int(x) < 10) else x)\n",
    "\n",
    "# MODIFICAR NOMBRES DE COLUMAS\n",
    "dataframe = dataframe.drop('AC2', axis=1)\n",
    "\n",
    "dataframe = dataframe.rename({\n",
    "    'Creado por'    :'Creado_por'\n",
    "    },axis=1)\n",
    "\n",
    "#for i in dataframe.index:\n",
    "#    print(dataframe['Creado'])\n",
    "#\n",
    "#for i in dataframe.index:\n",
    "#    print(dataframe.iloc[1]['Creado'])\n",
    "#    dataframe.iloc[i]['ANO'] = i+1\n",
    "#    print(dataframe.iloc[i]['ANO'])\n",
    "\n",
    "dataframe['ANO'] = 2020;\n",
    "dataframe['MES'] = 1;\n",
    "dataframe['DIA'] = 27;\n",
    "dataframe['CAMBIO_ESTADO'] = 'None'\n",
    "dataframe['nombreProducto2'] = ''\n",
    "dataframe['temperaturaProducto2'] = ''\n",
    "dataframe['CANTIDAD_FALLOS'] = '0'\n",
    "\n",
    "dataframe['nombreMaquina'] = dataframe[\"nombreMaquina\"].apply(lambda x: pd.Series(str(x).split(\".\")[0]))\n",
    "\n",
    "display(dataframe)\n",
    "dataframe.dtypes"
   ]
  },
  {
   "cell_type": "code",
   "execution_count": null,
   "metadata": {},
   "outputs": [],
   "source": []
  },
  {
   "cell_type": "code",
   "execution_count": null,
   "metadata": {},
   "outputs": [],
   "source": [
    "display(dataframe)\n",
    "dataframe.dtypes"
   ]
  },
  {
   "cell_type": "code",
   "execution_count": null,
   "metadata": {},
   "outputs": [],
   "source": []
  },
  {
   "cell_type": "code",
   "execution_count": null,
   "metadata": {},
   "outputs": [],
   "source": [
    "# EJECUTA FUNCION HISTORITO EQUIPOS FRIO DS\n",
    "nombre_tabla = 'historico_equipos_frio_DS'\n",
    "queryCreateTableHistorico_equipos_DS(dbAzure, nombre_tabla, dataframe)"
   ]
  }
 ],
 "metadata": {
  "kernelspec": {
   "display_name": "Python 3",
   "language": "python",
   "name": "python3"
  },
  "language_info": {
   "codemirror_mode": {
    "name": "ipython",
    "version": 3
   },
   "file_extension": ".py",
   "mimetype": "text/x-python",
   "name": "python",
   "nbconvert_exporter": "python",
   "pygments_lexer": "ipython3",
   "version": "3.11.1 (v3.11.1:a7a450f84a, Dec  6 2022, 15:24:06) [Clang 13.0.0 (clang-1300.0.29.30)]"
  },
  "orig_nbformat": 4,
  "vscode": {
   "interpreter": {
    "hash": "aee8b7b246df8f9039afb4144a1f6fd8d2ca17a180786b69acc140d282b71a49"
   }
  }
 },
 "nbformat": 4,
 "nbformat_minor": 2
}
